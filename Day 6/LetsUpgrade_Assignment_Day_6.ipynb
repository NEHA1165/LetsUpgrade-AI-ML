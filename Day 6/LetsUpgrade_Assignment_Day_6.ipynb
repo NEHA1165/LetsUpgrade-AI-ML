{
 "cells": [
  {
   "cell_type": "markdown",
   "metadata": {},
   "source": [
    "# Question 1:\n",
    "Assuming that we have some email addresses in the \"username@companyname.com\" format, please write program to print the company name of a given email address. Both user names and company names are composed of letters only.\n",
    "Input Format:\n",
    "The first line of the input contains an email address.\n",
    "Output Format:\n",
    "Print the company name in single line.\n",
    "Example;\n",
    "Input:\n",
    "john@google.com\n",
    "Output:\n",
    "google\n"
   ]
  },
  {
   "cell_type": "code",
   "execution_count": 8,
   "metadata": {},
   "outputs": [
    {
     "name": "stdout",
     "output_type": "stream",
     "text": [
      "john@google.com\n",
      "google\n"
     ]
    }
   ],
   "source": [
    "print(input().split(\"@\")[1].split(\".\")[0])"
   ]
  },
  {
   "cell_type": "code",
   "execution_count": 9,
   "metadata": {},
   "outputs": [
    {
     "name": "stdout",
     "output_type": "stream",
     "text": [
      "bhanuprakash@letsupgrade.com\n",
      "letsupgrade\n"
     ]
    }
   ],
   "source": [
    "print(input().split(\"@\")[1].split(\".\")[0])"
   ]
  },
  {
   "cell_type": "markdown",
   "metadata": {},
   "source": [
    "# Question 2:\n",
    "Write a program that accepts a comma-separated sequence of words as input and prints the words in a comma separated sequence after sorting them alphabetically.\n",
    "Input Format:\n",
    "The first line of input contains words separated by the comma.\n",
    "Output Format:\n",
    "Print the sorted words separated by the comma.\n",
    "Example:\n",
    "Input:\n",
    "without,hello,bag,world\n",
    "Output:\n",
    "bag,hello,without,world"
   ]
  },
  {
   "cell_type": "code",
   "execution_count": 30,
   "metadata": {},
   "outputs": [
    {
     "name": "stdout",
     "output_type": "stream",
     "text": [
      "Enter the string seperated by comma: without,hello,bag,world\n",
      "bag,hello,without,world\n"
     ]
    }
   ],
   "source": [
    "List1=input(\"Enter the string seperated by comma: \").split(',')\n",
    "List1.sort()\n",
    "sorted_list=','.join(List1)\n",
    "print(sorted_list)"
   ]
  },
  {
   "cell_type": "markdown",
   "metadata": {},
   "source": [
    "# Question 3:\n",
    "Create your own Jupyter Notebook for Sets.\n",
    "Reference link: https://www.w3schools.com/python/python_sets.asp"
   ]
  },
  {
   "cell_type": "markdown",
   "metadata": {},
   "source": [
    "# Sets\n",
    "- A set is a collection which is unordered and unindexed. \n",
    "- In Python sets are written with curly brackets {}.\n",
    "- The items of a set can appear in any order.\n",
    "- Items in a set cant be accessed as it is unordered and has no index.\n",
    "- Element in a set can be checked if it is present in the set or not by using 'in' keyword.\n",
    "- Once a set is created, you cannot change its items, but you can add new items."
   ]
  },
  {
   "cell_type": "code",
   "execution_count": 14,
   "metadata": {},
   "outputs": [
    {
     "name": "stdout",
     "output_type": "stream",
     "text": [
      "<class 'set'>\n",
      "{10, 34.555, 'LetsUpgrade'}\n"
     ]
    }
   ],
   "source": [
    "set1={10,34.555,\"LetsUpgrade\"}\n",
    "print(type(set1))\n",
    "print(set1)"
   ]
  },
  {
   "cell_type": "code",
   "execution_count": 29,
   "metadata": {},
   "outputs": [
    {
     "name": "stdout",
     "output_type": "stream",
     "text": [
      "65\n",
      "LetsUpgrade\n",
      "-56.229\n",
      "10\n",
      "HI\n",
      "24.556\n",
      "True\n",
      "False\n",
      "{65, 'LetsUpgrade', -56.229, 10, 'HI', 'WELCOME', 24.556}\n",
      "{65, 'LetsUpgrade', -56.229, 10, 'HI', 'WELCOME', 98347, 24.556, 'Python'}\n",
      "9\n",
      "{65, 'LetsUpgrade', -56.229, 10, 'HI', 'WELCOME', 98347, 24.556}\n",
      "{'LetsUpgrade', -56.229, 10, 'HI', 'WELCOME', 98347, 24.556}\n",
      "{1, 2, 3, 4, 5, 'LetsUpgrade', -56.229, 10, 'HI', 'WELCOME', 98347, 24.556}\n"
     ]
    }
   ],
   "source": [
    "set2={10,24.556,-56.229,\"HI\",\"LetsUpgrade\",65}\n",
    "set3={1,2,3,4,5}\n",
    "for i in set2:\n",
    "    print(i)\n",
    "    \n",
    "#to check if the element is present in set or not\n",
    "print(10 in set2)\n",
    "print(20 in set2)\n",
    "\n",
    "set2.add(\"WELCOME\") #adds element to set\n",
    "print(set2)\n",
    "set2.update([98347,\"Python\"]) #updates the set with new element\n",
    "print(set2)\n",
    "print(len(set2)) #returns the length of string\n",
    "set2.remove(\"Python\") #deletes the element from the set\n",
    "print(set2)\n",
    "set2.pop() #random element is removed from set\n",
    "print(set2)\n",
    "set4=set3.union(set2) #concatenates two sets\n",
    "print(set4)\n"
   ]
  },
  {
   "cell_type": "markdown",
   "metadata": {},
   "source": [
    "# Question 4:\n",
    "Given a list of n-1 numbers ranging from 1 to n, your task is to find the missing number. There are no duplicates.\n",
    "Input Format:\n",
    "The first line contains n-1 numbers with each number separated by a space.\n",
    "Output Format:\n",
    "Print the missing number\n",
    "Example:\n",
    "Input:1 2 4 6 3 7 8\n",
    "Output:5\n",
    "Explanation:\n",
    "In the above list of numbers 5 is missing and hence 5 is the output\n"
   ]
  },
  {
   "cell_type": "code",
   "execution_count": 3,
   "metadata": {},
   "outputs": [
    {
     "name": "stdout",
     "output_type": "stream",
     "text": [
      "Enter multiple values\n",
      "1,2,3,5,6,7,8\n",
      "The missing number is:  4.0\n"
     ]
    }
   ],
   "source": [
    "def getMissingNo(A): \n",
    "    n = len(A) \n",
    "    total = (n + 1)*(n + 2)/2\n",
    "    sum=0\n",
    "    for i in A:\n",
    "        sum=sum+i\n",
    "    sum_of_A = sum \n",
    "    return total - sum_of_A \n",
    "\n",
    "L = [int(x) for x in input(\"Enter multiple values\\n\").split(',')]\n",
    "\n",
    "miss = getMissingNo(L) \n",
    "print(\"The missing number is: \",miss) "
   ]
  },
  {
   "cell_type": "markdown",
   "metadata": {},
   "source": [
    "# Question 5:\n",
    "With a given list L, write a program to print this list L after removing all duplicate values with original order reserved.\n",
    "Example:\n",
    "If the input list is\n",
    "12 24 35 24 88 120 155 88 120 155\n",
    "Then the output should be\n",
    "12 24 35 88 120 155\n"
   ]
  },
  {
   "cell_type": "code",
   "execution_count": 10,
   "metadata": {},
   "outputs": [
    {
     "name": "stdout",
     "output_type": "stream",
     "text": [
      "Original List\n",
      "List1:  [12, 24, 35, 24, 88, 120, 155, 88, 120, 155]\n",
      "List after removing duplicate values\n",
      "List2:  [12, 24, 35, 88, 120, 155]\n"
     ]
    }
   ],
   "source": [
    "list1 = [12,24,35,24,88,120,155,88,120,155]\n",
    "list2 = []\n",
    "\n",
    "for i in list1:\n",
    "    if i not in list2:\n",
    "        list2.append(i)\n",
    "        \n",
    "print(\"Original List\")\n",
    "print(\"List1: \",list1)\n",
    "print(\"List after removing duplicate values\")\n",
    "print(\"List2: \",list2)"
   ]
  },
  {
   "cell_type": "code",
   "execution_count": null,
   "metadata": {},
   "outputs": [],
   "source": []
  }
 ],
 "metadata": {
  "kernelspec": {
   "display_name": "Python 3",
   "language": "python",
   "name": "python3"
  },
  "language_info": {
   "codemirror_mode": {
    "name": "ipython",
    "version": 3
   },
   "file_extension": ".py",
   "mimetype": "text/x-python",
   "name": "python",
   "nbconvert_exporter": "python",
   "pygments_lexer": "ipython3",
   "version": "3.7.6"
  }
 },
 "nbformat": 4,
 "nbformat_minor": 4
}
