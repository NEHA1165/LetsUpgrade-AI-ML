{
 "cells": [
  {
   "cell_type": "markdown",
   "metadata": {},
   "source": [
    "# Question 1 :\n",
    "Research on whether addition, subtraction, multiplication, division, floor division and modulo\n",
    "operations be performed on complex numbers. Based on your study, implement a Python\n",
    "program to demonstrate these operations.\n",
    "1. Addition, subtraction, multiplication, division operation can be performed on complex numbers. \n",
    "2. Floor division & modulo operations cannot be performed on complex numbers."
   ]
  },
  {
   "cell_type": "code",
   "execution_count": 1,
   "metadata": {},
   "outputs": [
    {
     "name": "stdout",
     "output_type": "stream",
     "text": [
      "Subtraction of complex numbers a and b is:  (11+12j)\n",
      "Addition of complex numbers a and b is:  (-5+2j)\n",
      "Multiplication of complex numbers a and b is:  (11-71j)\n",
      "Subtraction of a and b is:  (-0.6629213483146067-0.4606741573033708j)\n"
     ]
    }
   ],
   "source": [
    "a=(3+7j)\n",
    "b=(-8-5j)\n",
    "s=a-b\n",
    "p=b+a\n",
    "m=a*b\n",
    "c=a/b\n",
    "print(\"Subtraction of complex numbers a and b is: \",s) \n",
    "print(\"Addition of complex numbers a and b is: \",p)\n",
    "print(\"Multiplication of complex numbers a and b is: \",m)\n",
    "print(\"Subtraction of a and b is: \",c)"
   ]
  },
  {
   "cell_type": "code",
   "execution_count": 3,
   "metadata": {},
   "outputs": [
    {
     "ename": "TypeError",
     "evalue": "can't take floor of complex number.",
     "output_type": "error",
     "traceback": [
      "\u001b[1;31m---------------------------------------------------------------------------\u001b[0m",
      "\u001b[1;31mTypeError\u001b[0m                                 Traceback (most recent call last)",
      "\u001b[1;32m<ipython-input-3-90095c1b5d55>\u001b[0m in \u001b[0;36m<module>\u001b[1;34m\u001b[0m\n\u001b[0;32m      1\u001b[0m \u001b[0ma\u001b[0m\u001b[1;33m=\u001b[0m\u001b[1;33m(\u001b[0m\u001b[1;36m3\u001b[0m\u001b[1;33m+\u001b[0m\u001b[1;36m7j\u001b[0m\u001b[1;33m)\u001b[0m\u001b[1;33m\u001b[0m\u001b[1;33m\u001b[0m\u001b[0m\n\u001b[0;32m      2\u001b[0m \u001b[0mb\u001b[0m\u001b[1;33m=\u001b[0m\u001b[1;33m(\u001b[0m\u001b[1;33m-\u001b[0m\u001b[1;36m8\u001b[0m\u001b[1;33m-\u001b[0m\u001b[1;36m5j\u001b[0m\u001b[1;33m)\u001b[0m\u001b[1;33m\u001b[0m\u001b[1;33m\u001b[0m\u001b[0m\n\u001b[1;32m----> 3\u001b[1;33m \u001b[0mfd\u001b[0m\u001b[1;33m=\u001b[0m\u001b[0ma\u001b[0m\u001b[1;33m//\u001b[0m\u001b[0mb\u001b[0m\u001b[1;33m\u001b[0m\u001b[1;33m\u001b[0m\u001b[0m\n\u001b[0m\u001b[0;32m      4\u001b[0m \u001b[0mprint\u001b[0m\u001b[1;33m(\u001b[0m\u001b[1;34m\"Floor Division of a and b is: \"\u001b[0m\u001b[1;33m,\u001b[0m\u001b[0mfd\u001b[0m\u001b[1;33m)\u001b[0m\u001b[1;33m\u001b[0m\u001b[1;33m\u001b[0m\u001b[0m\n",
      "\u001b[1;31mTypeError\u001b[0m: can't take floor of complex number."
     ]
    }
   ],
   "source": [
    "a=(3+7j)\n",
    "b=(-8-5j)\n",
    "fd=a//b\n",
    "print(\"Floor Division of a and b is: \",fd)"
   ]
  },
  {
   "cell_type": "code",
   "execution_count": 4,
   "metadata": {},
   "outputs": [
    {
     "ename": "TypeError",
     "evalue": "can't mod complex numbers.",
     "output_type": "error",
     "traceback": [
      "\u001b[1;31m---------------------------------------------------------------------------\u001b[0m",
      "\u001b[1;31mTypeError\u001b[0m                                 Traceback (most recent call last)",
      "\u001b[1;32m<ipython-input-4-234543a388d4>\u001b[0m in \u001b[0;36m<module>\u001b[1;34m\u001b[0m\n\u001b[0;32m      1\u001b[0m \u001b[0ma\u001b[0m\u001b[1;33m=\u001b[0m\u001b[1;33m(\u001b[0m\u001b[1;36m3\u001b[0m\u001b[1;33m+\u001b[0m\u001b[1;36m7j\u001b[0m\u001b[1;33m)\u001b[0m\u001b[1;33m\u001b[0m\u001b[1;33m\u001b[0m\u001b[0m\n\u001b[0;32m      2\u001b[0m \u001b[0mb\u001b[0m\u001b[1;33m=\u001b[0m\u001b[1;33m(\u001b[0m\u001b[1;33m-\u001b[0m\u001b[1;36m8\u001b[0m\u001b[1;33m-\u001b[0m\u001b[1;36m5j\u001b[0m\u001b[1;33m)\u001b[0m\u001b[1;33m\u001b[0m\u001b[1;33m\u001b[0m\u001b[0m\n\u001b[1;32m----> 3\u001b[1;33m \u001b[0mmod\u001b[0m\u001b[1;33m=\u001b[0m\u001b[0ma\u001b[0m\u001b[1;33m%\u001b[0m\u001b[0mb\u001b[0m\u001b[1;33m\u001b[0m\u001b[1;33m\u001b[0m\u001b[0m\n\u001b[0m\u001b[0;32m      4\u001b[0m \u001b[0mprint\u001b[0m\u001b[1;33m(\u001b[0m\u001b[1;34m\"Modulo of a and b is: \"\u001b[0m\u001b[1;33m,\u001b[0m\u001b[0mmod\u001b[0m\u001b[1;33m)\u001b[0m\u001b[1;33m\u001b[0m\u001b[1;33m\u001b[0m\u001b[0m\n",
      "\u001b[1;31mTypeError\u001b[0m: can't mod complex numbers."
     ]
    }
   ],
   "source": [
    "a=(3+7j)\n",
    "b=(-8-5j)\n",
    "mod=a%b\n",
    "print(\"Modulo of a and b is: \",mod)"
   ]
  },
  {
   "cell_type": "markdown",
   "metadata": {},
   "source": [
    "# Question 2 :\n",
    "Research on range() functions and its parameters. Create a markdown cell and write in your own\n",
    "words (no copy-paste from google please) what you understand about it. Implement a small\n",
    "program of your choice on the same."
   ]
  },
  {
   "cell_type": "markdown",
   "metadata": {},
   "source": [
    "1. range() function returns a sequence of number starting from 0 by default, ends before a specified number & increments by i for every uteration by default.\n",
    "2. Parameters - start, stop & step can be passed to a range() function.\n",
    "3. Syntax: range(start,stop,step)\n",
    "4. start-An integer number specifying at which position to start. By default the value is 0 (Optional).\n",
    "5. stop-An integer number specifying at which position to stop (To be specified)\n",
    "6. step-An integer number specifying the incrementation.By default the value is 1 (Optional)"
   ]
  },
  {
   "cell_type": "code",
   "execution_count": 5,
   "metadata": {},
   "outputs": [
    {
     "name": "stdout",
     "output_type": "stream",
     "text": [
      "1\n",
      "2\n",
      "3\n",
      "\n",
      "\n",
      "0\n",
      "2\n",
      "4\n",
      "6\n",
      "8\n"
     ]
    }
   ],
   "source": [
    "for i in range(1,4):\n",
    "    print(i)\n",
    "print(\"\\n\")\n",
    "for j in range(0,10,2):\n",
    "    print(j)"
   ]
  },
  {
   "cell_type": "markdown",
   "metadata": {},
   "source": [
    "# Question 3:\n",
    "Consider two numbers. Perform their subtraction and if the result of subtraction is greater than\n",
    "25, print their multiplication result else print their division result."
   ]
  },
  {
   "cell_type": "code",
   "execution_count": 8,
   "metadata": {},
   "outputs": [
    {
     "name": "stdout",
     "output_type": "stream",
     "text": [
      "The subtraction of two numbers is lesser than 25\n",
      "The division of two numbers is:  2.9411764705882355\n"
     ]
    }
   ],
   "source": [
    "a=100\n",
    "b=34\n",
    "sub=b-a\n",
    "if sub>25:\n",
    "    print(\"The subtraction of two numbers is greater than 25\")\n",
    "    print(\"The multiplication of two numbers is: \",a*b)\n",
    "else:\n",
    "    print(\"The subtraction of two numbers is lesser than 25\")\n",
    "    print(\"The division of two numbers is: \",a/b)"
   ]
  },
  {
   "cell_type": "code",
   "execution_count": 9,
   "metadata": {},
   "outputs": [
    {
     "name": "stdout",
     "output_type": "stream",
     "text": [
      "The subtraction of two numbers is greater than 25\n",
      "The multiplication of two numbers is:  27475\n"
     ]
    }
   ],
   "source": [
    "a=35\n",
    "b=785\n",
    "sub=b-a\n",
    "if sub>25:\n",
    "    print(\"The subtraction of two numbers is greater than 25\")\n",
    "    print(\"The multiplication of two numbers is: \",a*b)\n",
    "else:\n",
    "    print(\"The subtraction of two numbers is lesser than 25\")\n",
    "    print(\"The division of two numbers is: \",b/a)"
   ]
  },
  {
   "cell_type": "markdown",
   "metadata": {},
   "source": [
    "# Question 4:\n",
    "Consider a list of 10 elements of integer values. If the number in the list is divisible by 2, print the result as \"square of that number minus 2\"."
   ]
  },
  {
   "cell_type": "code",
   "execution_count": 10,
   "metadata": {},
   "outputs": [
    {
     "name": "stdout",
     "output_type": "stream",
     "text": [
      "Square of  0 minus 2 is -2\n",
      "Square of  12 minus 2 is 142\n",
      "Square of  952 minus 2 is 906302\n",
      "Square of  34 minus 2 is 1154\n",
      "Square of  36 minus 2 is 1294\n",
      "Square of  2020 minus 2 is 4080398\n"
     ]
    }
   ],
   "source": [
    "lst1=[0,12,77,952,1001,29,34,36,99,2020]\n",
    "for i in lst1:\n",
    "    if i%2==0:\n",
    "        print(\"Square of \",i,\"minus 2 is\",((i**2)-2))"
   ]
  },
  {
   "cell_type": "markdown",
   "metadata": {},
   "source": [
    "# Question 5:\n",
    "Consider a list of 10 elements. Print all the elements in the list which are greater than 7 when that number is divided 2."
   ]
  },
  {
   "cell_type": "code",
   "execution_count": 11,
   "metadata": {},
   "outputs": [
    {
     "name": "stdout",
     "output_type": "stream",
     "text": [
      "27\n",
      "946\n",
      "33\n",
      "2020\n",
      "100403\n"
     ]
    }
   ],
   "source": [
    "lst2=[27,946,10,-34,33,10,-29,14,2020,100403]\n",
    "for i in lst2:\n",
    "    x=i/2\n",
    "    if x>7:\n",
    "        print(i)"
   ]
  },
  {
   "cell_type": "code",
   "execution_count": null,
   "metadata": {},
   "outputs": [],
   "source": []
  }
 ],
 "metadata": {
  "kernelspec": {
   "display_name": "Python 3",
   "language": "python",
   "name": "python3"
  },
  "language_info": {
   "codemirror_mode": {
    "name": "ipython",
    "version": 3
   },
   "file_extension": ".py",
   "mimetype": "text/x-python",
   "name": "python",
   "nbconvert_exporter": "python",
   "pygments_lexer": "ipython3",
   "version": "3.7.6"
  }
 },
 "nbformat": 4,
 "nbformat_minor": 4
}
