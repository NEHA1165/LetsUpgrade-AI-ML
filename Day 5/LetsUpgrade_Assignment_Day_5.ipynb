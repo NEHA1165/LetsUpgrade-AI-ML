{
 "cells": [
  {
   "cell_type": "markdown",
   "metadata": {},
   "source": [
    "# Question 1:\n",
    "Write a Python program to find the first 20 non-even prime natural numbers."
   ]
  },
  {
   "cell_type": "code",
   "execution_count": 1,
   "metadata": {},
   "outputs": [
    {
     "name": "stdout",
     "output_type": "stream",
     "text": [
      "hHow many prime numbers would you like to print?20\n",
      "Enter start range: 0\n",
      "Enter end range: 100\n",
      "\n",
      "Here are the first 20 non-even prime numbers: \n",
      "\n",
      "3 5 7 11 13 17 19 23 29 31 37 41 43 47 53 59 61 67 71 73 "
     ]
    }
   ],
   "source": [
    "n=int(input(\"hHow many prime numbers would you like to print?\"))\n",
    "prime_nos=[]\n",
    "lower=int(input(\"Enter start range: \"))\n",
    "upper=int(input(\"Enter end range: \"))\n",
    "for num in range(lower, upper + 1):    \n",
    "    if num > 2 and len(prime_nos)<=n-1:\n",
    "        for i in range(2, num):\n",
    "            if (num % i) == 0:\n",
    "                break\n",
    "        else:\n",
    "            prime_nos.append(num)\n",
    "\n",
    "print(\"\\nHere are the first\",n,\"non-even prime numbers: \\n\")\n",
    "for x in prime_nos:\n",
    "    print(x,end=\" \")"
   ]
  },
  {
   "cell_type": "markdown",
   "metadata": {},
   "source": [
    "# Question 2 :\n",
    "Write a Python program to implement 15 functions of string.\n"
   ]
  },
  {
   "cell_type": "code",
   "execution_count": 2,
   "metadata": {},
   "outputs": [
    {
     "name": "stdout",
     "output_type": "stream",
     "text": [
      "1. I am learning artificial intelligence and machine learning from letsupgrade!! \n",
      "2. i am learning artificial intelligence and machine learning from letsupgrade!! \n",
      "3. I am Learning Artificial Intelligence and Machine Learning from LetsUpgrade!! \n",
      "4. 2 \n",
      "5. True \n",
      "6. False \n",
      "7. ['I', 'am', 'Learning', 'Artificial', 'Intelligence', 'and', 'Machine', 'Learning', 'from', 'LetsUpgrade!!'] \n",
      "8. i AM lEARNING aRTIFICIAL iNTELLIGENCE AND mACHINE lEARNING FROM lETSuPGRADE!! \n",
      "9. I am LearnING Artificial Intelligence and Machine LearnING from LetsUpgrade!! \n",
      "10. False \n",
      "11. False \n",
      "12. 2 \n",
      "13. I AM LEARNING ARTIFICIAL INTELLIGENCE AND MACHINE LEARNING FROM LETSUPGRADE!! \n",
      "14. 27\n",
      "15. For only 49.00 rupees!\n"
     ]
    }
   ],
   "source": [
    "str1=\"I am Learning Artificial Intelligence and Machine Learning from LetsUpgrade!!\"\n",
    "a=str1.capitalize()\n",
    "b=str1.casefold()\n",
    "c=str1.center(23)\n",
    "d=str1.count(\"ing\")\n",
    "e=str1.endswith(\"!\")\n",
    "f=str1.isalpha()\n",
    "g=str1.split()\n",
    "h=str1.swapcase()\n",
    "i=str1.replace(\"ing\",\"ING\")\n",
    "j=str1.isdecimal()\n",
    "k=str1.isspace()\n",
    "l=str1.find(\"am\")\n",
    "m=str1.upper()\n",
    "n=str1.rfind(\"tell\")\n",
    "print(\"1.\",a,\"\\n2.\",b,\"\\n3.\",c,\"\\n4.\",d,\"\\n5.\",e,\"\\n6.\",f,\"\\n7.\",g,\"\\n8.\",h,\"\\n9.\",i,\"\\n10.\",j,\"\\n11.\",k,\"\\n12.\",l,\"\\n13.\",m,\"\\n14.\",n)\n",
    "txt = \"For only {price:.2f} rupees!\"\n",
    "print(\"15.\",txt.format(price = 49))"
   ]
  },
  {
   "cell_type": "markdown",
   "metadata": {},
   "source": [
    "# Question 3:\n",
    "Write a Python program to check if the given string is a Palindrome or Anagram or None of them.\n",
    "Display the message accordingly to the user.\n"
   ]
  },
  {
   "cell_type": "code",
   "execution_count": 4,
   "metadata": {},
   "outputs": [
    {
     "name": "stdout",
     "output_type": "stream",
     "text": [
      "Enter string1 to check if its Anagram: add\n",
      "Enter string2 to check if its Anagram: dad\n",
      "The strings are anagrams\n",
      "s2 is a palindrome\n"
     ]
    }
   ],
   "source": [
    "def check(s1,s2):\n",
    "    if (sorted(s1)==sorted(s2)):\n",
    "        print(\"The strings are anagrams\")\n",
    "    else:\n",
    "        print(\"The strings are not anagrams\")\n",
    "    if s1==s1[::-1]:\n",
    "        print(\"s1 is a palindrome\")\n",
    "    if s2==s2[::-1]:\n",
    "        print(\"s2 is a palindrome\")\n",
    "\n",
    "s1=input(\"Enter string1 to check if its Anagram: \")\n",
    "s2=input(\"Enter string2 to check if its Anagram: \")\n",
    "check(s1,s2)"
   ]
  },
  {
   "cell_type": "markdown",
   "metadata": {},
   "source": [
    "# Question 4:\n",
    "Write a Python's user defined function that removes all the additional characters from the string\n",
    "and converts it finally to lower case using built-in lower(). eg: If the string is \"Dr. Darshan Ingle @AI-ML Trainer\", then the output be \"drdarshaningleaimltrainer\"."
   ]
  },
  {
   "cell_type": "code",
   "execution_count": 6,
   "metadata": {},
   "outputs": [
    {
     "name": "stdout",
     "output_type": "stream",
     "text": [
      "drdarshaningleaimltrainer\n"
     ]
    }
   ],
   "source": [
    "string1=\"Dr. Darshan Ingle @AI-ML Trainer\"\n",
    "string2=\"!@#$%^&*(){}[]-_+=/.,<>?\"\n",
    "\n",
    "string3=string1    \n",
    "for i in string2:\n",
    "    string3=string3.replace(i,'')\n",
    "    x=string3.lower()\n",
    "    y=x.replace(\" \",'')\n",
    "    \n",
    "print(y)"
   ]
  },
  {
   "cell_type": "code",
   "execution_count": null,
   "metadata": {},
   "outputs": [],
   "source": []
  }
 ],
 "metadata": {
  "kernelspec": {
   "display_name": "Python 3",
   "language": "python",
   "name": "python3"
  },
  "language_info": {
   "codemirror_mode": {
    "name": "ipython",
    "version": 3
   },
   "file_extension": ".py",
   "mimetype": "text/x-python",
   "name": "python",
   "nbconvert_exporter": "python",
   "pygments_lexer": "ipython3",
   "version": "3.7.6"
  },
  "toc": {
   "base_numbering": 1,
   "nav_menu": {},
   "number_sections": true,
   "sideBar": true,
   "skip_h1_title": false,
   "title_cell": "Table of Contents",
   "title_sidebar": "Contents",
   "toc_cell": false,
   "toc_position": {},
   "toc_section_display": true,
   "toc_window_display": false
  }
 },
 "nbformat": 4,
 "nbformat_minor": 4
}
