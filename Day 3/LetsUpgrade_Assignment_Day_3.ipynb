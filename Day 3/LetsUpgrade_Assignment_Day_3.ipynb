{
 "cells": [
  {
   "cell_type": "markdown",
   "metadata": {},
   "source": [
    "# Question 1\n",
    "Write a program to subtract two comples numbers in Python"
   ]
  },
  {
   "cell_type": "code",
   "execution_count": 1,
   "metadata": {},
   "outputs": [
    {
     "name": "stdout",
     "output_type": "stream",
     "text": [
      "Subtraction of complex numbers a and b is:  (11+12j)\n",
      "Addition of complex numbers a and b is:  (-5+2j)\n",
      "Multiplication of complex numbers a and b is:  (11-71j)\n",
      "Subtraction of a and b is:  (-0.6629213483146067-0.4606741573033708j)\n"
     ]
    }
   ],
   "source": [
    "a=(3+7j)\n",
    "b=(-8-5j)\n",
    "s=a-b\n",
    "p=b+a\n",
    "m=a*b\n",
    "c=a/b\n",
    "print(\"Subtraction of complex numbers a and b is: \",s) \n",
    "print(\"Addition of complex numbers a and b is: \",p)\n",
    "print(\"Multiplication of complex numbers a and b is: \",m)\n",
    "print(\"Subtraction of a and b is: \",c)"
   ]
  },
  {
   "cell_type": "markdown",
   "metadata": {},
   "source": [
    "# Question 2\n",
    "Write a program to find the fourth root of a number in Python"
   ]
  },
  {
   "cell_type": "code",
   "execution_count": 2,
   "metadata": {},
   "outputs": [
    {
     "name": "stdout",
     "output_type": "stream",
     "text": [
      "16\n",
      "625\n",
      "92236816\n"
     ]
    }
   ],
   "source": [
    "a=2\n",
    "b=-5\n",
    "c=-98\n",
    "print(a**4)\n",
    "print(b**4)\n",
    "print(c**4)"
   ]
  },
  {
   "cell_type": "markdown",
   "metadata": {},
   "source": [
    "# Question 3\n",
    "Write a program to swap two numbers in Python using a temp variable"
   ]
  },
  {
   "cell_type": "code",
   "execution_count": 3,
   "metadata": {},
   "outputs": [
    {
     "name": "stdout",
     "output_type": "stream",
     "text": [
      "Before swaping:\n",
      "x= 97988362 \n",
      "y= -382174\n",
      "After swaping:\n",
      "x= -382174 \n",
      "y= 97988362\n"
     ]
    }
   ],
   "source": [
    "x=97988362\n",
    "y=-382174\n",
    "print(\"Before swaping:\\nx=\",x,\"\\ny=\",y)\n",
    "t=x\n",
    "x=y\n",
    "y=t\n",
    "print(\"After swaping:\\nx= {} \\ny= {}\".format(x,y))"
   ]
  },
  {
   "cell_type": "markdown",
   "metadata": {},
   "source": [
    "# Question 4\n",
    "Write a program to swap two numbers in Python without using a temp variable"
   ]
  },
  {
   "cell_type": "code",
   "execution_count": 4,
   "metadata": {},
   "outputs": [
    {
     "name": "stdout",
     "output_type": "stream",
     "text": [
      "Before swaping:\n",
      "x= 7 \n",
      "y= -6\n",
      "After swaping:\n",
      "x= -6 \n",
      "y= 7\n"
     ]
    }
   ],
   "source": [
    "x=7\n",
    "y=-6\n",
    "print(\"Before swaping:\\nx=\",x,\"\\ny=\",y)\n",
    "x=x+y\n",
    "y=x-y\n",
    "x=x-y\n",
    "print(\"After swaping:\\nx= {} \\ny= {}\".format(x,y))"
   ]
  },
  {
   "cell_type": "markdown",
   "metadata": {},
   "source": [
    "# Question 5\n",
    "Write a program to convert fahrenheit to kelvin and celcius both."
   ]
  },
  {
   "cell_type": "code",
   "execution_count": 5,
   "metadata": {},
   "outputs": [
    {
     "name": "stdout",
     "output_type": "stream",
     "text": [
      "The fahrenheit value is:  98.6\n",
      "The kelvin value is:  310.5\n",
      "The celcius value is:  37.0\n"
     ]
    }
   ],
   "source": [
    "f=98.6\n",
    "print(\"The fahrenheit value is: \",f)\n",
    "kelvin=273.5+((f-32.0)*(5.0/9.0))\n",
    "celcius=(f-32)*5.0/9.0\n",
    "print(\"The kelvin value is: \",kelvin)\n",
    "print(\"The celcius value is: \",celcius)"
   ]
  },
  {
   "cell_type": "markdown",
   "metadata": {},
   "source": [
    "# Question 6\n",
    "Write a program to demonstrate all the variable data types in Python. \n",
    "Hint: Use type() function"
   ]
  },
  {
   "cell_type": "code",
   "execution_count": 6,
   "metadata": {},
   "outputs": [
    {
     "name": "stdout",
     "output_type": "stream",
     "text": [
      "Data type of a is:  <class 'int'>\n",
      "Data type of b is:  <class 'float'>\n",
      "Data type of c is:  <class 'complex'>\n",
      "Data type of d is:  <class 'bool'>\n",
      "Data type of e is:  <class 'str'>\n",
      "Data type of f is:  <class 'list'>\n",
      "Data type of g is:  <class 'tuple'>\n",
      "Data type of h is:  <class 'set'>\n",
      "Data type of i is:  <class 'dict'>\n"
     ]
    }
   ],
   "source": [
    "a=2\n",
    "print(\"Data type of a is: \",type(a))\n",
    "b=-78.87683\n",
    "print(\"Data type of b is: \",type(b))\n",
    "c=(8-56j)\n",
    "print(\"Data type of c is: \",type(c))\n",
    "d=True\n",
    "print(\"Data type of d is: \",type(d))\n",
    "e=\"Bhanu Prakash YK\"\n",
    "print(\"Data type of e is: \",type(e))\n",
    "f=[0,56,-78.5638,\"Python\",[1,\"hi\"]]\n",
    "print(\"Data type of f is: \",type(f))\n",
    "g=(56,987,-1627.878,\"aiml\",(\"helloworld\",78.00))\n",
    "print(\"Data type of g is: \",type(g))\n",
    "h={45,67.878,-4667,\"hi\",\"LU\",'7896'}\n",
    "print(\"Data type of h is: \",type(h))\n",
    "i={\"Name\":\"BhanuPrakash\",\"Age\":\"23\",\"Batch\":\"B1\",\"Course\":\"Artificial Intelligence & Machine Learning\"}\n",
    "print(\"Data type of i is: \",type(i))"
   ]
  },
  {
   "cell_type": "markdown",
   "metadata": {},
   "source": [
    "# Question 7\n",
    "Create a markdown cell in jupyter and list the steps discussed in the session by Dr.Darshan Ingle sir to create Github profile and upload Githubs Assignment link."
   ]
  },
  {
   "cell_type": "markdown",
   "metadata": {},
   "source": [
    "Steps to create GitHub profile & upload Githubs Assignment Link:\n",
    "1. Enter www.github.com in web browser\n",
    "2. Signin to GitHub by providing the username, emailid & password.\n",
    "3. Verification link will be sent to registered emailid.\n",
    "4. Verify the emailid by clicking on the link in the mail.\n",
    "5. GitHub profile is created.\n",
    "6. After the profile is created, create a new public Repository with Repository name: LetsUpgrade-AI-ML and Description: Assignments\n",
    "7. After successful repository creation, upload an existing folder of the respective day of session by dragging the file into the browser.\n",
    "8. Copy the URL of the Folder in the repository of that day and paste it in the assignment submission form."
   ]
  }
 ],
 "metadata": {
  "kernelspec": {
   "display_name": "Python 3",
   "language": "python",
   "name": "python3"
  },
  "language_info": {
   "codemirror_mode": {
    "name": "ipython",
    "version": 3
   },
   "file_extension": ".py",
   "mimetype": "text/x-python",
   "name": "python",
   "nbconvert_exporter": "python",
   "pygments_lexer": "ipython3",
   "version": "3.7.6"
  }
 },
 "nbformat": 4,
 "nbformat_minor": 4
}
