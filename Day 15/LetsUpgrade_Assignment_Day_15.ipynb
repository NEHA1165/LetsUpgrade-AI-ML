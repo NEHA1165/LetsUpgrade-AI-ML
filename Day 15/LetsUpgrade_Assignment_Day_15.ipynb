{
 "cells": [
  {
   "cell_type": "markdown",
   "metadata": {},
   "source": [
    "# 1. Create a 3x3x3 array with random values "
   ]
  },
  {
   "cell_type": "code",
   "execution_count": 4,
   "metadata": {},
   "outputs": [
    {
     "name": "stdout",
     "output_type": "stream",
     "text": [
      "[[[0.89581751 0.51575464 0.1925681 ]\n",
      "  [0.12573688 0.02525888 0.56954554]\n",
      "  [0.55184666 0.35303448 0.59928693]]\n",
      "\n",
      " [[0.85166486 0.58122021 0.70819231]\n",
      "  [0.80505449 0.38681691 0.46781704]\n",
      "  [0.79817354 0.4984954  0.83034301]]\n",
      "\n",
      " [[0.65139322 0.8240203  0.13218641]\n",
      "  [0.13483436 0.55462818 0.20506564]\n",
      "  [0.11652076 0.0358306  0.79195541]]]\n"
     ]
    }
   ],
   "source": [
    "import numpy as np\n",
    "randomarray = np.random.random((3,3,3))\n",
    "print(randomarray)"
   ]
  },
  {
   "cell_type": "markdown",
   "metadata": {},
   "source": [
    "# 2.Create a 5x5 matrix with values 1,2,3,4 just below the diagonal"
   ]
  },
  {
   "cell_type": "code",
   "execution_count": 62,
   "metadata": {},
   "outputs": [
    {
     "name": "stdout",
     "output_type": "stream",
     "text": [
      "[[0 0 0 0 0]\n",
      " [1 0 0 0 0]\n",
      " [0 2 0 0 0]\n",
      " [0 0 3 0 0]\n",
      " [0 0 0 4 0]]\n"
     ]
    }
   ],
   "source": [
    "import numpy as np\n",
    "Z = np.diag(1+np.arange(4),k=-1)\n",
    "print(Z)"
   ]
  },
  {
   "cell_type": "markdown",
   "metadata": {},
   "source": [
    "# 3.Create a 8x8 matrix and fill it with a checkerboard pattern"
   ]
  },
  {
   "cell_type": "code",
   "execution_count": 9,
   "metadata": {},
   "outputs": [
    {
     "name": "stdout",
     "output_type": "stream",
     "text": [
      "[[0 1 0 1 0 1 0 1]\n",
      " [1 0 1 0 1 0 1 0]\n",
      " [0 1 0 1 0 1 0 1]\n",
      " [1 0 1 0 1 0 1 0]\n",
      " [0 1 0 1 0 1 0 1]\n",
      " [1 0 1 0 1 0 1 0]\n",
      " [0 1 0 1 0 1 0 1]\n",
      " [1 0 1 0 1 0 1 0]]\n"
     ]
    }
   ],
   "source": [
    "import numpy as np\n",
    "checkerboard=np.ones((3,3))\n",
    "checkerboard=np.zeros((8,8),dtype=int)\n",
    "checkerboard[1::2,::2] = 1\n",
    "checkerboard[::2,1::2] = 1\n",
    "print(checkerboard)"
   ]
  },
  {
   "cell_type": "markdown",
   "metadata": {},
   "source": [
    "# 4. Normalize a 5x5 random matrix"
   ]
  },
  {
   "cell_type": "code",
   "execution_count": 19,
   "metadata": {},
   "outputs": [
    {
     "name": "stdout",
     "output_type": "stream",
     "text": [
      "Before Normalization: \n",
      " [[0.6708014  0.15555528 0.82999781 0.64271786 0.86207996]\n",
      " [0.78346358 0.35657511 0.74619811 0.26205616 0.14664046]\n",
      " [0.09546977 0.70994065 0.17703478 0.80772454 0.70225495]\n",
      " [0.15052111 0.06597842 0.37853013 0.92588427 0.98791258]\n",
      " [0.34873098 0.94294118 0.14000427 0.5272509  0.54378444]]\n",
      "After Normalization: \n",
      " [[0.65603706 0.09716189 0.82871361 0.62557552 0.86351236]\n",
      " [0.77823904 0.3152033  0.73781808 0.21268085 0.08749219]\n",
      " [0.03198856 0.69849048 0.12046019 0.80455433 0.69015398]\n",
      " [0.09170145 0.         0.33901739 0.93271937 1.        ]\n",
      " [0.30669496 0.95122059 0.08029407 0.50033126 0.5182648 ]]\n"
     ]
    }
   ],
   "source": [
    "import numpy as np\n",
    "x= np.random.random((5,5))\n",
    "print(\"Before Normalization: \\n\",x)\n",
    "xmax, xmin = x.max(), x.min()\n",
    "x = (x - xmin)/(xmax - xmin)\n",
    "print(\"After Normalization: \\n\",x)"
   ]
  },
  {
   "cell_type": "markdown",
   "metadata": {},
   "source": [
    "# 5.  How to find common values between two arrays?"
   ]
  },
  {
   "cell_type": "code",
   "execution_count": 25,
   "metadata": {},
   "outputs": [
    {
     "name": "stdout",
     "output_type": "stream",
     "text": [
      "[-56  12  76]\n"
     ]
    }
   ],
   "source": [
    "import numpy as np\n",
    "x=np.array([12,45,1,76,998,24,-56])\n",
    "y=np.array([36,12,53,109,76,-56])\n",
    "\"\"\"\n",
    "for i in x:\n",
    "    for j in y:\n",
    "        if i==j:\n",
    "            print(i)\n",
    "\"\"\"\n",
    "print(np.intersect1d(x,y))"
   ]
  },
  {
   "cell_type": "markdown",
   "metadata": {},
   "source": [
    "# 6.How to get the dates of yesterday, today and tomorrow?"
   ]
  },
  {
   "cell_type": "code",
   "execution_count": 34,
   "metadata": {},
   "outputs": [
    {
     "name": "stdout",
     "output_type": "stream",
     "text": [
      "Yestraday:  2020-07-27\n",
      "Today:  2020-07-28\n",
      "Tomorrow:  2020-07-29\n"
     ]
    }
   ],
   "source": [
    "import numpy as np\n",
    "yesterday=np.datetime64('today', 'D') - np.timedelta64(1, 'D')\n",
    "print(\"Yestraday: \",yesterday)\n",
    "today=np.datetime64('today', 'D')\n",
    "print(\"Today: \",today)\n",
    "tomorrow=np.datetime64('today', 'D') + np.timedelta64(1, 'D')\n",
    "print(\"Tomorrow: \",tomorrow)"
   ]
  },
  {
   "cell_type": "markdown",
   "metadata": {},
   "source": [
    "# 7. Consider two random array A and B, check if they are equal"
   ]
  },
  {
   "cell_type": "code",
   "execution_count": 39,
   "metadata": {},
   "outputs": [
    {
     "name": "stdout",
     "output_type": "stream",
     "text": [
      "First array: \n",
      " [[4 3 1]\n",
      " [6 8 4]\n",
      " [5 8 3]]\n",
      "Second array: \n",
      " [[7 1 4]\n",
      " [2 4 8]\n",
      " [3 7 1]]\n"
     ]
    },
    {
     "data": {
      "text/plain": [
       "False"
      ]
     },
     "execution_count": 39,
     "metadata": {},
     "output_type": "execute_result"
    }
   ],
   "source": [
    "import numpy as np\n",
    "arr1 = np.random.randint(1,10,(3,3))  \n",
    "print(\"First array: \\n\",arr1)\n",
    "arr2=np.random.randint(1,10,(3,3))\n",
    "print(\"Second array: \\n\",arr2)\n",
    "np.array_equal(arr1,arr2)"
   ]
  },
  {
   "cell_type": "markdown",
   "metadata": {},
   "source": [
    "# 8.Create random vector of size 10 and replace the maximum value by 0 "
   ]
  },
  {
   "cell_type": "code",
   "execution_count": 45,
   "metadata": {},
   "outputs": [
    {
     "name": "stdout",
     "output_type": "stream",
     "text": [
      "Original array:\n",
      "[0.29865824 0.14282082 0.31144931 0.41925299 0.32545467 0.77060995\n",
      " 0.23132678 0.06135525 0.82719029 0.41511671]\n",
      "[0.29865824 0.14282082 0.31144931 0.41925299 0.32545467 0.77060995\n",
      " 0.23132678 0.06135525 0.         0.41511671]\n"
     ]
    }
   ],
   "source": [
    "import numpy as np\n",
    "x = np.random.random(10)\n",
    "print(\"Original array:\")\n",
    "print(x)\n",
    "x[x.argmax()]=0\n",
    "print(x)"
   ]
  },
  {
   "cell_type": "markdown",
   "metadata": {},
   "source": [
    "# 9. How to print all the values of an array?"
   ]
  },
  {
   "cell_type": "code",
   "execution_count": 59,
   "metadata": {},
   "outputs": [
    {
     "name": "stdout",
     "output_type": "stream",
     "text": [
      "[ 0  1  2  3  4  5  6  7  8  9 10 11 12 13 14]\n"
     ]
    }
   ],
   "source": [
    "import numpy as np\n",
    "my_array = np. arange(15)\n",
    "print(my_array)"
   ]
  },
  {
   "cell_type": "markdown",
   "metadata": {},
   "source": [
    "# 10.Subtract the mean of each row of a matrix"
   ]
  },
  {
   "cell_type": "code",
   "execution_count": 60,
   "metadata": {},
   "outputs": [
    {
     "name": "stdout",
     "output_type": "stream",
     "text": [
      "Original matrix:\n",
      "\n",
      "[[0.20626556 0.21156291 0.07408743 0.27876698 0.50361344 0.67961992\n",
      "  0.20137583 0.48174186 0.03944471 0.61777579]\n",
      " [0.54552754 0.85533505 0.27439871 0.12691313 0.90797179 0.83218108\n",
      "  0.97005176 0.92167374 0.86125169 0.56234314]\n",
      " [0.20489328 0.40043258 0.8041871  0.41135886 0.13909547 0.35088346\n",
      "  0.62314836 0.32186342 0.10844966 0.38325537]\n",
      " [0.61783912 0.67615645 0.13088025 0.52138335 0.12502247 0.72333912\n",
      "  0.05723508 0.44391828 0.42457408 0.33347352]\n",
      " [0.9391162  0.82450634 0.5464277  0.80476123 0.23615683 0.53820135\n",
      "  0.92389257 0.1559545  0.92007441 0.03315317]]\n",
      "\n",
      "Subtract the mean of each row of the said matrix:\n",
      "\n",
      "[[-0.12315989 -0.11786253 -0.25533801 -0.05065846  0.174188    0.35019448\n",
      "  -0.12804961  0.15231642 -0.28998073  0.28835035]\n",
      " [-0.14023722  0.16957028 -0.41136605 -0.55885163  0.22220703  0.14641632\n",
      "   0.28428699  0.23590898  0.17548692 -0.12342162]\n",
      " [-0.16986348  0.02567582  0.42943035  0.0366021  -0.23566128 -0.0238733\n",
      "   0.24839161 -0.05289334 -0.26630709  0.00849861]\n",
      " [ 0.21245695  0.27077427 -0.27450192  0.11600118 -0.28035971  0.31795695\n",
      "  -0.34814709  0.03853611  0.01919191 -0.07190866]\n",
      " [ 0.34689177  0.23228191 -0.04579673  0.2125368  -0.3560676  -0.05402308\n",
      "   0.33166814 -0.43626993  0.32784998 -0.55907126]]\n"
     ]
    }
   ],
   "source": [
    "import numpy as np\n",
    "print(\"Original matrix:\\n\")\n",
    "X=np.random.rand(5, 10)\n",
    "print(X)\n",
    "print(\"\\nSubtract the mean of each row of the said matrix:\\n\")\n",
    "Y=X-X.mean(axis=1, keepdims=True)\n",
    "print(Y)"
   ]
  },
  {
   "cell_type": "markdown",
   "metadata": {},
   "source": [
    "# 11.Consider a given vector, how to add 1 to each element indexed by a second vector (be careful with repeated indices)? "
   ]
  },
  {
   "cell_type": "code",
   "execution_count": 67,
   "metadata": {},
   "outputs": [
    {
     "name": "stdout",
     "output_type": "stream",
     "text": [
      "[2. 4. 3. 5. 2. 2. 3. 3. 2. 4.]\n"
     ]
    }
   ],
   "source": [
    "X=np.ones(10)\n",
    "Y=np.random.randint(0,len(X),20)\n",
    "X+=np.bincount(Y,minlength=len(X))\n",
    "print(X)"
   ]
  },
  {
   "cell_type": "markdown",
   "metadata": {},
   "source": [
    "# 12.How to get the diagonal of a dot product?"
   ]
  },
  {
   "cell_type": "code",
   "execution_count": 69,
   "metadata": {},
   "outputs": [
    {
     "data": {
      "text/plain": [
       "array([2.53249707, 0.24791289, 1.8735232 , 1.76624494, 1.81224459])"
      ]
     },
     "execution_count": 69,
     "metadata": {},
     "output_type": "execute_result"
    }
   ],
   "source": [
    "A = np.random.uniform(0,1,(5,5))\n",
    "B = np.random.uniform(0,1,(5,5))\n",
    "np.diag(np.dot(A, B))"
   ]
  },
  {
   "cell_type": "markdown",
   "metadata": {},
   "source": [
    "# 13.How to find the most frequent value in an array?"
   ]
  },
  {
   "cell_type": "code",
   "execution_count": 73,
   "metadata": {},
   "outputs": [
    {
     "name": "stdout",
     "output_type": "stream",
     "text": [
      "[4 5 9 8 6 0 0 5 9 1 0 6 5 8 3 4 8 7 7 1 2 7 3 5 9]\n",
      "5\n"
     ]
    }
   ],
   "source": [
    "X=np.random.randint(0,10,25)\n",
    "print(X)\n",
    "print(np.bincount(X).argmax())"
   ]
  },
  {
   "cell_type": "markdown",
   "metadata": {},
   "source": [
    "# 14.How to get the n largest values of an array"
   ]
  },
  {
   "cell_type": "code",
   "execution_count": 83,
   "metadata": {
    "scrolled": true
   },
   "outputs": [
    {
     "name": "stdout",
     "output_type": "stream",
     "text": [
      "[49 44 48 45 46 47 43]\n"
     ]
    }
   ],
   "source": [
    "X=np.arange(50)\n",
    "np.random.shuffle(X)\n",
    "n=7\n",
    "print(X[np.argpartition(-X,n)[:n]])"
   ]
  },
  {
   "cell_type": "markdown",
   "metadata": {},
   "source": [
    "# 15.How to create a record array from a regular array?"
   ]
  },
  {
   "cell_type": "code",
   "execution_count": 86,
   "metadata": {},
   "outputs": [
    {
     "name": "stdout",
     "output_type": "stream",
     "text": [
      "[(b'Hello', 2.5, 3) (b'World', 3.6, 2)]\n"
     ]
    }
   ],
   "source": [
    "Z=np.array([(\"Hello\", 2.5, 3),(\"World\", 3.6, 2)])\n",
    "R=np.core.records.fromarrays(Z.T,names='col1, col2, col3',formats = 'S8, f8, i8')\n",
    "print(R)"
   ]
  },
  {
   "cell_type": "code",
   "execution_count": null,
   "metadata": {},
   "outputs": [],
   "source": []
  }
 ],
 "metadata": {
  "kernelspec": {
   "display_name": "Python 3",
   "language": "python",
   "name": "python3"
  },
  "language_info": {
   "codemirror_mode": {
    "name": "ipython",
    "version": 3
   },
   "file_extension": ".py",
   "mimetype": "text/x-python",
   "name": "python",
   "nbconvert_exporter": "python",
   "pygments_lexer": "ipython3",
   "version": "3.7.6"
  }
 },
 "nbformat": 4,
 "nbformat_minor": 2
}
